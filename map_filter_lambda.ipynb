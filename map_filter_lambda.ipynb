{
 "cells": [
  {
   "cell_type": "markdown",
   "metadata": {},
   "source": [
    "## map, filter, lambda kullanımı"
   ]
  },
  {
   "cell_type": "markdown",
   "metadata": {},
   "source": [
    "map: Bir listeye ait tüm elemanlar için bir fonksiyonun parametre olarak alınarak uygulanmasını sağlar. Yani her eleman için tek tek\n",
    "gerek olmadan map(fonksiyon-adi,liste-adi) girişi ile otomatik olarak sonuçları oluşturup tutabiliriz."
   ]
  },
  {
   "cell_type": "code",
   "execution_count": 1,
   "metadata": {},
   "outputs": [],
   "source": [
    "list = [1,2,3,4,5,6,7]\n",
    "\n",
    "def kareyi_bul(x):\n",
    "    return x**2"
   ]
  },
  {
   "cell_type": "code",
   "execution_count": 2,
   "metadata": {},
   "outputs": [
    {
     "data": {
      "text/plain": [
       "25"
      ]
     },
     "execution_count": 2,
     "metadata": {},
     "output_type": "execute_result"
    }
   ],
   "source": [
    "kareyi_bul (5)"
   ]
  },
  {
   "cell_type": "code",
   "execution_count": 3,
   "metadata": {},
   "outputs": [
    {
     "data": {
      "text/plain": [
       "[1, 4, 9, 16, 25, 36, 49]"
      ]
     },
     "execution_count": 3,
     "metadata": {},
     "output_type": "execute_result"
    }
   ],
   "source": [
    "[*map(kareyi_bul,list)] #eski versiyonlarda list(map()) geçerli oluyordu, zipte de aynıydı fakat artık en basit \n",
    "#* ve tür için köşeli parantez kullanarak bunu yapabiliriz"
   ]
  },
  {
   "cell_type": "markdown",
   "metadata": {},
   "source": [
    "(*) nedir,buradaki kullanımı ne? Yıldızı burada bir iterable'ın elemanlarını çıkarıp gerekli bir yere kolayca aktarabilmek için kullanıyoruz.\n",
    "Sözlük olursa key-valuedan kaynaklı args,kwargs örneğindeki gibi burada da ** kullanılıyor."
   ]
  },
  {
   "cell_type": "code",
   "execution_count": 4,
   "metadata": {},
   "outputs": [
    {
     "name": "stdout",
     "output_type": "stream",
     "text": [
      "[1, 2, 3, 4, 5, 6, 8, 9, 7]\n"
     ]
    }
   ],
   "source": [
    "#Örneğin 3 farklı iterabledan tek liste yapmak için uzun yol (Alıntı kod. örnek için eklendi)\n",
    "A = [1, 2, 3]\n",
    "B = (4, 5, 6)\n",
    "C = {7, 8, 9} #bu arada key olmayan süslü parantezli yapı set. 'set()' demek yerine '{}' bu da set olarak algılanıyor.\n",
    "L = []\n",
    "for a in A:\n",
    "    L.append(a)\n",
    "for b in B:\n",
    "    L.append(b)\n",
    "for c in C:\n",
    "    L.append(c)\n",
    "print(L)"
   ]
  },
  {
   "cell_type": "code",
   "execution_count": 5,
   "metadata": {},
   "outputs": [
    {
     "name": "stdout",
     "output_type": "stream",
     "text": [
      "[1, 2, 3, 4, 5, 6, 8, 9, 7]\n"
     ]
    }
   ],
   "source": [
    "#* kullanımı ile çok kısa olan yol\n",
    "A = [1, 2, 3]\n",
    "B = (4, 5, 6)\n",
    "C = {7, 8, 9}\n",
    "L = [*A, *B, *C]\n",
    "print(L)"
   ]
  },
  {
   "cell_type": "markdown",
   "metadata": {},
   "source": [
    "filter: Tanımlı bir liste içindeki elemanlardan fonksiyonun çıktısına uygun olan yani True sonuç verecek olanları bir listede toplayarak\n",
    "yeni bir doğru cevaplar listesi oluşturur."
   ]
  },
  {
   "cell_type": "code",
   "execution_count": 6,
   "metadata": {},
   "outputs": [],
   "source": [
    "def tek_sayi(number):\n",
    "    return number % 2 == 1\n",
    "\n",
    "#örneğin burada if else ile uzun uzun belirtmek yerine direkt eğer parametre alınan number tekse döndür dedik. çiftse false dönecek."
   ]
  },
  {
   "cell_type": "code",
   "execution_count": 7,
   "metadata": {},
   "outputs": [
    {
     "data": {
      "text/plain": [
       "False"
      ]
     },
     "execution_count": 7,
     "metadata": {},
     "output_type": "execute_result"
    }
   ],
   "source": [
    "tek_sayi(20)"
   ]
  },
  {
   "cell_type": "code",
   "execution_count": 8,
   "metadata": {},
   "outputs": [
    {
     "name": "stdout",
     "output_type": "stream",
     "text": [
      "[5, 3]\n"
     ]
    }
   ],
   "source": [
    "sayilar = [10,20,5,3,8,16,888,956]\n",
    "\n",
    "tekler = [*filter(tek_sayi,sayilar)] #filter (fonksiyon adı, liste adı) sayesinde kolayca tüm elemanlardan fonksiyonda True çıktı verenleri\n",
    "print(tekler)                        #yeni bir listede toplamış olduk."
   ]
  },
  {
   "cell_type": "code",
   "execution_count": 9,
   "metadata": {},
   "outputs": [
    {
     "name": "stdout",
     "output_type": "stream",
     "text": [
      "[11, 24, 39, 56, 75, 96, 119, 144, 171]\n"
     ]
    }
   ],
   "source": [
    "#ALINTI ÖRNEK -- Map kullanarak carp fonksiyonunda 2 liste elemanları için uygulama yapıp yeni liste oluşturduk.\n",
    "\n",
    "def carp(sayi1,sayi2):\n",
    "    return sayi1 * sayi2\n",
    "\n",
    "liste1 = range(1, 10)\n",
    "liste2 = range(11, 20)\n",
    "liste3 = [*map(carp, liste1, liste2)]\n",
    "print(liste3)"
   ]
  },
  {
   "cell_type": "code",
   "execution_count": 10,
   "metadata": {},
   "outputs": [
    {
     "name": "stdout",
     "output_type": "stream",
     "text": [
      "[11, 39, 75, 119, 171]\n"
     ]
    }
   ],
   "source": [
    "print ([*filter(tek_sayi, liste3)]) #oluşan yeni listeden tek_sayi olanları bulmak için tek_sayi fonk. göre filtreleme yaptık"
   ]
  },
  {
   "cell_type": "markdown",
   "metadata": {},
   "source": [
    "lambda: map ve filterda daha önceden oluşturduğumuz fonksiyonları kullandık. Burada fonksiyon tanımlama işlemini tek satıra indirgeyebilir\n",
    "ve yeni bir fonksiyon tanımlama işlemi yapmış oluruz. lambda degişkenler:dönüş değeri // Yani def ile bir tanımlama yapmak yerine lambda ile\n",
    "fonksiyon tanımlaması yapabiliriz."
   ]
  },
  {
   "cell_type": "code",
   "execution_count": 11,
   "metadata": {},
   "outputs": [
    {
     "name": "stdout",
     "output_type": "stream",
     "text": [
      "[False, False, True, False, False, True]\n"
     ]
    }
   ],
   "source": [
    "#örneğin temel fonksiyonumuz bilinen kurallara göre bu şekilde yazılır\n",
    "\n",
    "sayilar = [50,48,5,6,78,95]\n",
    "\n",
    "def tek_sayi(number):\n",
    "    return number % 2 == 1\n",
    "\n",
    "print([*map(tek_sayi,sayilar)])"
   ]
  },
  {
   "cell_type": "code",
   "execution_count": 12,
   "metadata": {},
   "outputs": [
    {
     "name": "stdout",
     "output_type": "stream",
     "text": [
      "[False, False, True, False, False, True]\n"
     ]
    }
   ],
   "source": [
    "#bunu lambda kullanarak yapmak\n",
    "\n",
    "lambda_tk = lambda number:number%2==1\n",
    "print([*map(lambda_tk,sayilar)])"
   ]
  }
 ],
 "metadata": {
  "kernelspec": {
   "display_name": "Python 3",
   "language": "python",
   "name": "python3"
  },
  "language_info": {
   "codemirror_mode": {
    "name": "ipython",
    "version": 3
   },
   "file_extension": ".py",
   "mimetype": "text/x-python",
   "name": "python",
   "nbconvert_exporter": "python",
   "pygments_lexer": "ipython3",
   "version": "3.7.3"
  }
 },
 "nbformat": 4,
 "nbformat_minor": 4
}
