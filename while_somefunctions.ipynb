{
 "cells": [
  {
   "cell_type": "markdown",
   "metadata": {},
   "source": [
    "## While Döngüsü"
   ]
  },
  {
   "cell_type": "code",
   "execution_count": 1,
   "metadata": {},
   "outputs": [
    {
     "name": "stdout",
     "output_type": "stream",
     "text": [
      "0 degeri 5'ten küçüktür.\n",
      "1 degeri 5'ten küçüktür.\n",
      "2 degeri 5'ten küçüktür.\n",
      "3 degeri 5'ten küçüktür.\n",
      "4 degeri 5'ten küçüktür.\n",
      "5 degeri 5'e eşittir.\n",
      "6 degeri 5'ten büyüktür.\n",
      "7 degeri 5'ten büyüktür.\n",
      "8 degeri 5'ten büyüktür.\n",
      "9 degeri 5'ten büyüktür.\n"
     ]
    }
   ],
   "source": [
    "x=0\n",
    "\n",
    "while x<10:\n",
    "    if x<5:\n",
    "        print(\"{} degeri 5'ten küçüktür.\".format(x))\n",
    "    elif x==5:\n",
    "        print(\"{} degeri 5'e eşittir.\".format(x))\n",
    "    else:\n",
    "        print(\"{} degeri 5'ten büyüktür.\".format(x))\n",
    "    x=x+1"
   ]
  },
  {
   "cell_type": "code",
   "execution_count": 2,
   "metadata": {},
   "outputs": [
    {
     "name": "stdout",
     "output_type": "stream",
     "text": [
      "720\n"
     ]
    }
   ],
   "source": [
    "#faktöriyel bulma\n",
    "\n",
    "sayi = 6\n",
    "sonuc = 1\n",
    "\n",
    "while sayi > 0:\n",
    "    sonuc = sonuc*sayi\n",
    "    sayi= sayi-1\n",
    "print(sonuc)"
   ]
  },
  {
   "cell_type": "code",
   "execution_count": null,
   "metadata": {},
   "outputs": [],
   "source": [
    "sayi = int(input('Lütfen bir sayı giriniz:'))\n",
    "\n",
    "sonuc = 1\n",
    "\n",
    "while sayi >0:\n",
    "    sonuc = sonuc*sayi\n",
    "    sayi = sayi-1\n",
    "    \n",
    "print(sonuc)"
   ]
  },
  {
   "cell_type": "markdown",
   "metadata": {},
   "source": [
    "## Enumerate, zip, range, break, continue, pass"
   ]
  },
  {
   "cell_type": "markdown",
   "metadata": {},
   "source": [
    "#### **Range:** Belirli aralıktaki sayıları kapsamak için kullanılan bir tiptir. Listeye de dönüştürülebilir."
   ]
  },
  {
   "cell_type": "code",
   "execution_count": null,
   "metadata": {},
   "outputs": [],
   "source": [
    "range(10)"
   ]
  },
  {
   "cell_type": "code",
   "execution_count": null,
   "metadata": {},
   "outputs": [],
   "source": [
    "liste = [*range(10)]\n",
    "liste"
   ]
  },
  {
   "cell_type": "code",
   "execution_count": null,
   "metadata": {},
   "outputs": [],
   "source": [
    "liste2 = list(range(10))\n",
    "liste2"
   ]
  },
  {
   "cell_type": "code",
   "execution_count": null,
   "metadata": {},
   "outputs": [],
   "source": [
    "for i in range(0,15,2):\n",
    "    print(i)"
   ]
  },
  {
   "cell_type": "markdown",
   "metadata": {},
   "source": [
    "#### **Enumerate:** Itere edilebilen tiplerde elemanlara birer index ataması yapmayı sağlar."
   ]
  },
  {
   "cell_type": "code",
   "execution_count": null,
   "metadata": {},
   "outputs": [],
   "source": [
    "ad = ['h', 'a', 'v', 'v', 'a']\n",
    "for i in enumerate(ad):\n",
    "    print(i)"
   ]
  },
  {
   "cell_type": "code",
   "execution_count": null,
   "metadata": {},
   "outputs": [],
   "source": [
    "for i,h in enumerate(ad):\n",
    "    print('{}. harf: {}'.format(i,h))"
   ]
  },
  {
   "cell_type": "markdown",
   "metadata": {},
   "source": [
    "### **Zip:** Itere edilebilen tipleri birbiri ile bağlayarak başka bir itere edilen tipe dönüştürmeye yarayan fonksiyondur. Örn: 2 farklı tuple'ı tek liste yapmak. "
   ]
  },
  {
   "cell_type": "code",
   "execution_count": null,
   "metadata": {},
   "outputs": [],
   "source": [
    "tup1 =(1,2,3,4,5,6)\n",
    "tup2 = (1,2,3) \n",
    "ziplist = list(zip(tup1,tup2))\n",
    "ziplist"
   ]
  },
  {
   "cell_type": "code",
   "execution_count": null,
   "metadata": {},
   "outputs": [],
   "source": [
    "dict1 = {2, 3, 1}\n",
    "dict2 = {'b', 'a', 'c'}\n",
    "a = list(zip(dict1,dict2))\n",
    "print(a)"
   ]
  },
  {
   "cell_type": "code",
   "execution_count": null,
   "metadata": {},
   "outputs": [],
   "source": [
    "#ALINTI - 3'lü içinde kullanılabilir.\n",
    "\n",
    "integers = [1, 2, 3]\n",
    "letters = ['a', 'b', 'c']\n",
    "floats = [4.0, 5.0, 6.0]\n",
    "zipped = zip(integers, letters, floats)  \n",
    "print(list(zipped))"
   ]
  },
  {
   "cell_type": "markdown",
   "metadata": {},
   "source": [
    "### **Break**"
   ]
  },
  {
   "cell_type": "code",
   "execution_count": null,
   "metadata": {},
   "outputs": [],
   "source": [
    "number = 0\n",
    "\n",
    "for number in range(10):\n",
    "    if number == 5:\n",
    "        break   #istenilen noktaya kadar gidecekken verilen kurala uygun olunduğundan döngüyü bitirmeyi sağlar.\n",
    "    print('---> ' + str(number))\n",
    "\n",
    "print('5 oldu. Çık!')"
   ]
  },
  {
   "cell_type": "code",
   "execution_count": null,
   "metadata": {},
   "outputs": [],
   "source": [
    "number = 0\n",
    "\n",
    "for number in range(10):\n",
    "    if number == 5:\n",
    "        continue  #verilen noktaya kadar devam edip istenilen kısmı es geçmeyi sağlar. 5 olunca atladık.\n",
    "    print('---> ' + str(number))\n"
   ]
  },
  {
   "cell_type": "code",
   "execution_count": null,
   "metadata": {},
   "outputs": [],
   "source": [
    "number = 0\n",
    "\n",
    "for number in range(10):\n",
    "    if number == 5:\n",
    "        pass  #koşuldaki durumu atlamayı sağlar ama direnkt if altına continue deyip geçtiğimiz gibi değil burda if teki olursa pass\n",
    "              #else kısmında ise yola devam ediyor, yani bir else olmalı aksi halde yine tüm sayıları basıyor.\n",
    "    else:\n",
    "        print('---> ' + str(number))"
   ]
  },
  {
   "cell_type": "code",
   "execution_count": null,
   "metadata": {},
   "outputs": [],
   "source": []
  }
 ],
 "metadata": {
  "kernelspec": {
   "display_name": "Python 3",
   "language": "python",
   "name": "python3"
  },
  "language_info": {
   "codemirror_mode": {
    "name": "ipython",
    "version": 3
   },
   "file_extension": ".py",
   "mimetype": "text/x-python",
   "name": "python",
   "nbconvert_exporter": "python",
   "pygments_lexer": "ipython3",
   "version": "3.7.3"
  }
 },
 "nbformat": 4,
 "nbformat_minor": 4
}
