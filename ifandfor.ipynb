{
 "cells": [
  {
   "cell_type": "markdown",
   "metadata": {},
   "source": [
    "## IF SORGUSU"
   ]
  },
  {
   "cell_type": "code",
   "execution_count": 1,
   "metadata": {},
   "outputs": [
    {
     "name": "stdout",
     "output_type": "stream",
     "text": [
      "Tebrikler geçtiniz!\n"
     ]
    }
   ],
   "source": [
    "not1 = 85\n",
    "not2 = 50\n",
    "not3 = 25\n",
    "\n",
    "if (not1+not2+not3)/3 > 50:\n",
    "    print('Tebrikler geçtiniz!')\n",
    "else:\n",
    "    print('Malesef kaldınız.')"
   ]
  },
  {
   "cell_type": "code",
   "execution_count": 2,
   "metadata": {},
   "outputs": [
    {
     "name": "stdout",
     "output_type": "stream",
     "text": [
      "Harf listede mevcut değil.\n"
     ]
    },
    {
     "name": "stdin",
     "output_type": "stream",
     "text": [
      "Harfi listeye eklemek ister misiniz? E/H H\n"
     ]
    },
    {
     "name": "stdout",
     "output_type": "stream",
     "text": [
      "İsteğiniz üzerine ekleme yapılmamıştır, bilgilerinize\n",
      "Güncel liste ['a', 'b', 'c', 'd', 'e']\n"
     ]
    }
   ],
   "source": [
    "liste = ['a', 'b', 'c', 'd', 'e']\n",
    "\n",
    "harf = 't'\n",
    "if harf in liste:\n",
    "    print ('Harf listede mevcut.')\n",
    "else:\n",
    "    print('Harf listede mevcut değil.')\n",
    "    cevap = input ('Harfi listeye eklemek ister misiniz? E/H')\n",
    "    if cevap == 'E':\n",
    "        liste.append(harf)\n",
    "        print('Harf listeye eklendi, bilgilerinize.')\n",
    "        print(liste)\n",
    "    elif (cevap == 'H'):\n",
    "        print('İsteğiniz üzerine ekleme yapılmamıştır, bilgilerinize')\n",
    "        print('Güncel liste', liste)"
   ]
  },
  {
   "cell_type": "markdown",
   "metadata": {},
   "source": [
    "## DÖNGÜLER"
   ]
  },
  {
   "cell_type": "markdown",
   "metadata": {},
   "source": [
    "## For Döngüsü"
   ]
  },
  {
   "cell_type": "code",
   "execution_count": 30,
   "metadata": {},
   "outputs": [
    {
     "data": {
      "text/plain": [
       "{12054: 'nur', 12055: 'naz', 12056: 'ali', 12057: 'can', 12058: 'cem'}"
      ]
     },
     "execution_count": 30,
     "metadata": {},
     "output_type": "execute_result"
    }
   ],
   "source": [
    "kullanici_id = [12054, 12055, 12056, 12057, 12058]\n",
    "kullanici_adi = ['nur', 'naz', 'ali', 'can', 'cem']\n",
    "\n",
    "dict1 = {kullanici_id[i]:kullanici_adi[i] for i in range(len(kullanici_id))}\n",
    "dict1 \n",
    "#direkt dict fonksiyonu kullanarak ziple dict oluşturma 2.7 ve öncesi versiyonlarca destekleniyor etc: dict(zip(kullanici_id,kullanici_adi))"
   ]
  },
  {
   "cell_type": "code",
   "execution_count": 33,
   "metadata": {},
   "outputs": [
    {
     "name": "stdout",
     "output_type": "stream",
     "text": [
      "1 --> Kenan Demir\n",
      "2 --> İlay Arıkan\n",
      "3 --> Simay Bara\n",
      "4 --> Feris Tek\n",
      "5 --> Abdullah Uzunoğlu\n",
      "6 --> Demir Tapacık\n"
     ]
    }
   ],
   "source": [
    "sayac=0\n",
    "kullanicilar = ['Kenan Demir', 'İlay Arıkan', 'Simay Bara', 'Feris Tek', 'Abdullah Uzunoğlu', 'Demir Tapacık']\n",
    "\n",
    "for i in kullanicilar:\n",
    "    sayac= sayac+1\n",
    "    print(sayac, '-->' ,i)"
   ]
  },
  {
   "cell_type": "code",
   "execution_count": 62,
   "metadata": {},
   "outputs": [
    {
     "name": "stdout",
     "output_type": "stream",
     "text": [
      "Ad:    Kenan \tSoyad: Demir\n",
      "Ad:    İlay \tSoyad: Arıkan\n",
      "Ad:    Simay \tSoyad: Bara\n",
      "Ad:    Feris \tSoyad: Tek\n",
      "Ad:    Handan \tSoyad: Koza\n",
      "Ad:    Demir \tSoyad: Tapacık\n"
     ]
    }
   ],
   "source": [
    "sayac=0\n",
    "kullanicilar = ['Kenan Demir', 'İlay Arıkan', 'Simay Bara', 'Feris Tek', 'Handan Koza', 'Demir Tapacık']\n",
    "\n",
    "for i in range(len(kullanicilar)):\n",
    "    ad,soyad = kullanicilar[i].split()[0], kullanicilar[i].split()[1]\n",
    "    print('Ad:   ',ad,'\\tSoyad:',soyad)"
   ]
  },
  {
   "cell_type": "code",
   "execution_count": 71,
   "metadata": {},
   "outputs": [
    {
     "name": "stdout",
     "output_type": "stream",
     "text": [
      "[12, 15, 13, 14, 10, 10, 3, 10, 5, 5]\n"
     ]
    }
   ],
   "source": [
    "## Random sayı üreten for döngüsü (hatırlatma)\n",
    "\n",
    "liste1= []\n",
    "import random\n",
    "for i in range(10):\n",
    "    liste1.append(random.randint(1,15))\n",
    "print(liste1)"
   ]
  },
  {
   "cell_type": "code",
   "execution_count": 75,
   "metadata": {},
   "outputs": [
    {
     "name": "stdout",
     "output_type": "stream",
     "text": [
      "2\n",
      "50\n"
     ]
    }
   ],
   "source": [
    "neulist = [[1,2],[5,10]]\n",
    "\n",
    "for n,k in neulist:\n",
    "    print(n*k)"
   ]
  },
  {
   "cell_type": "code",
   "execution_count": 76,
   "metadata": {},
   "outputs": [
    {
     "name": "stdout",
     "output_type": "stream",
     "text": [
      "1 2\n",
      "5 10\n"
     ]
    }
   ],
   "source": [
    "neulist = [[1,2],[5,10]]\n",
    "\n",
    "for n,k in neulist:\n",
    "    print(n,k)"
   ]
  }
 ],
 "metadata": {
  "kernelspec": {
   "display_name": "Python 3",
   "language": "python",
   "name": "python3"
  },
  "language_info": {
   "codemirror_mode": {
    "name": "ipython",
    "version": 3
   },
   "file_extension": ".py",
   "mimetype": "text/x-python",
   "name": "python",
   "nbconvert_exporter": "python",
   "pygments_lexer": "ipython3",
   "version": "3.7.3"
  }
 },
 "nbformat": 4,
 "nbformat_minor": 4
}
