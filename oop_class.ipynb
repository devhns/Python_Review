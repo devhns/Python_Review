{
 "cells": [
  {
   "cell_type": "markdown",
   "metadata": {},
   "source": [
    "## Object Oriented Programming (Nesne Yönelimli Programlama)"
   ]
  },
  {
   "cell_type": "markdown",
   "metadata": {},
   "source": [
    "<img src=\"oop.PNG\" style=\"width:570px;height:300px\"/>"
   ]
  },
  {
   "cell_type": "markdown",
   "metadata": {},
   "source": [
    "class <Class İsmi>( ): ##class isimleri genelde büyük harfle başlar\n",
    "\n",
    "    <class attr>\n",
    "    \n",
    "    def __init__(self,<attr>): #init instatiation yani örneklendirmenin kısaltması\n",
    "    self.<instance attr> = attr #instance attributelat oluşturulan örneğe özgüdür\n",
    "    ...\n",
    "    \n",
    "    def <method> (self, <params>): #methodlar classa özgü fonksiyonlardır\n",
    "    ...\n",
    "    return ..."
   ]
  },
  {
   "cell_type": "code",
   "execution_count": 1,
   "metadata": {},
   "outputs": [],
   "source": [
    "class Ucus():\n",
    "    havayolu = \"THY\""
   ]
  },
  {
   "cell_type": "code",
   "execution_count": 2,
   "metadata": {},
   "outputs": [],
   "source": [
    "ucus1 = Ucus()"
   ]
  },
  {
   "cell_type": "code",
   "execution_count": 3,
   "metadata": {},
   "outputs": [
    {
     "data": {
      "text/plain": [
       "'THY'"
      ]
     },
     "execution_count": 3,
     "metadata": {},
     "output_type": "execute_result"
    }
   ],
   "source": [
    "ucus1.havayolu"
   ]
  },
  {
   "cell_type": "code",
   "execution_count": 4,
   "metadata": {},
   "outputs": [],
   "source": [
    "class Ucus():\n",
    "    havayolu = \"THY\"\n",
    "    \n",
    "    def __init__(self, kod, kalkis, varis, sure, kapasite, yolcu): #self o an oluşturduğumuz objeyi işaret ettiğimizi ifade eder \n",
    "        self.kod = kod\n",
    "        self.kalkis = kalkis\n",
    "        self.varis = varis\n",
    "        self.sure = sure\n",
    "        self.kapasite = kapasite\n",
    "        self.yolcu = yolcu"
   ]
  },
  {
   "cell_type": "code",
   "execution_count": 5,
   "metadata": {},
   "outputs": [
    {
     "ename": "TypeError",
     "evalue": "__init__() missing 6 required positional arguments: 'kod', 'kalkis', 'varis', 'sure', 'kapasite', and 'yolcu'",
     "output_type": "error",
     "traceback": [
      "\u001b[1;31m---------------------------------------------------------------------------\u001b[0m",
      "\u001b[1;31mTypeError\u001b[0m                                 Traceback (most recent call last)",
      "\u001b[1;32m<ipython-input-5-f6eceea2c453>\u001b[0m in \u001b[0;36m<module>\u001b[1;34m\u001b[0m\n\u001b[1;32m----> 1\u001b[1;33m \u001b[0mucus2\u001b[0m \u001b[1;33m=\u001b[0m \u001b[0mUcus\u001b[0m\u001b[1;33m(\u001b[0m\u001b[1;33m)\u001b[0m\u001b[1;33m\u001b[0m\u001b[1;33m\u001b[0m\u001b[0m\n\u001b[0m",
      "\u001b[1;31mTypeError\u001b[0m: __init__() missing 6 required positional arguments: 'kod', 'kalkis', 'varis', 'sure', 'kapasite', and 'yolcu'"
     ]
    }
   ],
   "source": [
    "ucus2 = Ucus()"
   ]
  },
  {
   "cell_type": "code",
   "execution_count": 6,
   "metadata": {},
   "outputs": [],
   "source": [
    "ucus2 = Ucus(\"THY123\", \"ANK\", \"İZM\", 500, 200, 180)"
   ]
  },
  {
   "cell_type": "code",
   "execution_count": 7,
   "metadata": {},
   "outputs": [
    {
     "data": {
      "text/plain": [
       "'THY123'"
      ]
     },
     "execution_count": 7,
     "metadata": {},
     "output_type": "execute_result"
    }
   ],
   "source": [
    "ucus2.kod"
   ]
  },
  {
   "cell_type": "code",
   "execution_count": 8,
   "metadata": {},
   "outputs": [
    {
     "data": {
      "text/plain": [
       "'İZM'"
      ]
     },
     "execution_count": 8,
     "metadata": {},
     "output_type": "execute_result"
    }
   ],
   "source": [
    "ucus2.varis"
   ]
  },
  {
   "cell_type": "markdown",
   "metadata": {},
   "source": [
    "*classa özgü attributelar oluşturulan her objenin sahip olabileceği attrlardır. def_init altında oluşturulan obje attributları ise\n",
    "istenen şekilde atanan objelere göre farklılık gösterebilirler.*"
   ]
  },
  {
   "cell_type": "code",
   "execution_count": 9,
   "metadata": {},
   "outputs": [],
   "source": [
    "## Method Kullanımı:"
   ]
  },
  {
   "cell_type": "code",
   "execution_count": 10,
   "metadata": {},
   "outputs": [],
   "source": [
    "class Ucus():\n",
    "    havayolu = \"THY\"\n",
    "    \n",
    "    def __init__(self, kod, kalkis, varis, sure, kapasite, yolcu): #self o an oluşturduğumuz objeyi işaret ettiğimizi ifade eder \n",
    "        self.kod = kod\n",
    "        self.kalkis = kalkis\n",
    "        self.varis = varis\n",
    "        self.sure = sure\n",
    "        self.kapasite = kapasite\n",
    "        self.yolcu = yolcu\n",
    "        \n",
    "    def anons_yap(self): #method\n",
    "        return \"{} sefer sayılı {}-{} ucuşumuz {} dakika sürecektir\".format(self.kod, self.kalkis, self.varis, self.sure)"
   ]
  },
  {
   "cell_type": "code",
   "execution_count": 11,
   "metadata": {},
   "outputs": [],
   "source": [
    "ucus2 = Ucus(\"THY123\", \"ANK\", \"İZM\", 500, 200, 180)"
   ]
  },
  {
   "cell_type": "code",
   "execution_count": 12,
   "metadata": {},
   "outputs": [
    {
     "data": {
      "text/plain": [
       "'THY123 sefer sayılı ANK-İZM ucuşumuz 500 dakika sürecektir'"
      ]
     },
     "execution_count": 12,
     "metadata": {},
     "output_type": "execute_result"
    }
   ],
   "source": [
    "ucus2.anons_yap()"
   ]
  },
  {
   "cell_type": "markdown",
   "metadata": {},
   "source": [
    "*09.03.2022 / Kaynak: https://www.youtube.com/watch?v=d2v_e2qKO44&list=PLWctyKyPphPiul3WbHkniANLqSheBVP3O&index=28*"
   ]
  }
 ],
 "metadata": {
  "kernelspec": {
   "display_name": "Python 3",
   "language": "python",
   "name": "python3"
  },
  "language_info": {
   "codemirror_mode": {
    "name": "ipython",
    "version": 3
   },
   "file_extension": ".py",
   "mimetype": "text/x-python",
   "name": "python",
   "nbconvert_exporter": "python",
   "pygments_lexer": "ipython3",
   "version": "3.7.3"
  }
 },
 "nbformat": 4,
 "nbformat_minor": 4
}
