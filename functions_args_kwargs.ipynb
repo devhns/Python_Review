{
 "cells": [
  {
   "cell_type": "markdown",
   "metadata": {},
   "source": [
    "## Fonksiyonlar"
   ]
  },
  {
   "cell_type": "code",
   "execution_count": 1,
   "metadata": {},
   "outputs": [],
   "source": [
    "#basit parametresiz örnek\n",
    "\n",
    "def yazdir():\n",
    "    print(5)"
   ]
  },
  {
   "cell_type": "code",
   "execution_count": 2,
   "metadata": {},
   "outputs": [
    {
     "name": "stdout",
     "output_type": "stream",
     "text": [
      "5\n"
     ]
    }
   ],
   "source": [
    "yazdir()"
   ]
  },
  {
   "cell_type": "code",
   "execution_count": 3,
   "metadata": {},
   "outputs": [],
   "source": [
    "def yazdir2():\n",
    "    return 5"
   ]
  },
  {
   "cell_type": "code",
   "execution_count": 4,
   "metadata": {},
   "outputs": [
    {
     "data": {
      "text/plain": [
       "5"
      ]
     },
     "execution_count": 4,
     "metadata": {},
     "output_type": "execute_result"
    }
   ],
   "source": [
    "yazdir2()"
   ]
  },
  {
   "cell_type": "code",
   "execution_count": 6,
   "metadata": {},
   "outputs": [
    {
     "name": "stdout",
     "output_type": "stream",
     "text": [
      "5\n",
      "None\n",
      "5\n"
     ]
    }
   ],
   "source": [
    "#print ve return farkı -- print sadece komutla fonksiyonda bir yazdırma yapar, bi şeyde bilgiyi eşitleyip saklayamazsın eşittir dediğinde fonk\n",
    "#calışır ama değişkende tutulmaz\n",
    "#return de döndür dediğin değeri değişken = fonk yaptığında değişkene atamış olursun none olmaz değeri saklar\n",
    "\n",
    "a = yazdir()\n",
    "b = yazdir2()\n",
    "print(a)\n",
    "print(b)"
   ]
  },
  {
   "cell_type": "code",
   "execution_count": 7,
   "metadata": {},
   "outputs": [],
   "source": [
    "#Argümanlar\n",
    "\n",
    "def sayi_dondur(sayi):\n",
    "    return sayi"
   ]
  },
  {
   "cell_type": "code",
   "execution_count": 9,
   "metadata": {},
   "outputs": [
    {
     "data": {
      "text/plain": [
       "105766"
      ]
     },
     "execution_count": 9,
     "metadata": {},
     "output_type": "execute_result"
    }
   ],
   "source": [
    "sayi_dondur(105766)"
   ]
  },
  {
   "cell_type": "code",
   "execution_count": 14,
   "metadata": {},
   "outputs": [],
   "source": [
    "def sayi_dondur(sayi=15): #egerki fonksiyona bir deger vererek çağırırsan returnden ötürü yine sana o degeri verir ama boş çağırırsan default\n",
    "    #olarak atadığın 15 değerini bastırır.\n",
    "    return sayi"
   ]
  },
  {
   "cell_type": "code",
   "execution_count": 15,
   "metadata": {},
   "outputs": [
    {
     "data": {
      "text/plain": [
       "15599"
      ]
     },
     "execution_count": 15,
     "metadata": {},
     "output_type": "execute_result"
    }
   ],
   "source": [
    "sayi_dondur(15599)"
   ]
  },
  {
   "cell_type": "code",
   "execution_count": 16,
   "metadata": {},
   "outputs": [
    {
     "data": {
      "text/plain": [
       "15"
      ]
     },
     "execution_count": 16,
     "metadata": {},
     "output_type": "execute_result"
    }
   ],
   "source": [
    "sayi_dondur()"
   ]
  },
  {
   "cell_type": "code",
   "execution_count": 17,
   "metadata": {},
   "outputs": [],
   "source": [
    "def sayi_sec(a,b):\n",
    "    if a>b:\n",
    "        return a\n",
    "    else:\n",
    "        return b"
   ]
  },
  {
   "cell_type": "code",
   "execution_count": 18,
   "metadata": {},
   "outputs": [
    {
     "data": {
      "text/plain": [
       "50"
      ]
     },
     "execution_count": 18,
     "metadata": {},
     "output_type": "execute_result"
    }
   ],
   "source": [
    "sayi_sec(50,18)"
   ]
  },
  {
   "cell_type": "code",
   "execution_count": 19,
   "metadata": {},
   "outputs": [
    {
     "data": {
      "text/plain": [
       "55"
      ]
     },
     "execution_count": 19,
     "metadata": {},
     "output_type": "execute_result"
    }
   ],
   "source": [
    "sayi_sec(15,55)"
   ]
  },
  {
   "cell_type": "code",
   "execution_count": 21,
   "metadata": {},
   "outputs": [],
   "source": [
    "#İç içe fonksiyomlar kullanılabilir.\n",
    "\n",
    "def metin_yazdir(a,b):\n",
    "    buyuk_sayi = sayi_sec(a,b)\n",
    "    metin = '{} daha büyüktür.'.format(buyuk_sayi)\n",
    "    print(metin)"
   ]
  },
  {
   "cell_type": "code",
   "execution_count": 22,
   "metadata": {},
   "outputs": [
    {
     "name": "stdout",
     "output_type": "stream",
     "text": [
      "50 daha büyüktür.\n"
     ]
    }
   ],
   "source": [
    "metin_yazdir(10,50)"
   ]
  },
  {
   "cell_type": "code",
   "execution_count": 25,
   "metadata": {},
   "outputs": [],
   "source": [
    "#Birden fazla sonuç döndürebiliriz.\n",
    "\n",
    "def isim_soyisim(isim_soyisim):\n",
    "    isim = isim_soyisim.split()[0]\n",
    "    soyisim = isim_soyisim.split()[1]\n",
    "    return isim,soyisim"
   ]
  },
  {
   "cell_type": "code",
   "execution_count": 26,
   "metadata": {},
   "outputs": [
    {
     "data": {
      "text/plain": [
       "('Can', 'Çolak')"
      ]
     },
     "execution_count": 26,
     "metadata": {},
     "output_type": "execute_result"
    }
   ],
   "source": [
    "isim_soyisim ('Can Çolak')"
   ]
  },
  {
   "cell_type": "code",
   "execution_count": 41,
   "metadata": {},
   "outputs": [
    {
     "name": "stdout",
     "output_type": "stream",
     "text": [
      "Can\n",
      "Çolak\n"
     ]
    }
   ],
   "source": [
    "isim,soyisim = isim_soyisim ('Can Çolak')\n",
    "print(isim)\n",
    "print(soyisim)"
   ]
  },
  {
   "cell_type": "code",
   "execution_count": 37,
   "metadata": {},
   "outputs": [
    {
     "name": "stdout",
     "output_type": "stream",
     "text": [
      "Nur Cevher\n",
      "N-u-r-C-e-v-h-e-r\n"
     ]
    }
   ],
   "source": [
    "print(\" \".join([\"Nur\",\"Cevher\"])) # join yanında belirtilen şeyi baz alarak liste içine yazılan elemanları araya karakteri koyup birleştirir.\n",
    "print(\"-\".join(\"Nur\" \"Cevher\")) #ya da bir stringteki her karakteri bir eleman olarak görüp her eleman arasında isteneni ekleyerek birleştirir"
   ]
  },
  {
   "cell_type": "code",
   "execution_count": 44,
   "metadata": {},
   "outputs": [],
   "source": [
    "def isim_soyisim_birlestir (isim,soyisim):\n",
    "    return (\" \".join([isim,soyisim]))"
   ]
  },
  {
   "cell_type": "code",
   "execution_count": 45,
   "metadata": {},
   "outputs": [
    {
     "data": {
      "text/plain": [
       "'Nur Cevher'"
      ]
     },
     "execution_count": 45,
     "metadata": {},
     "output_type": "execute_result"
    }
   ],
   "source": [
    "isim_soyisim_birlestir (\"Nur\",\"Cevher\")"
   ]
  },
  {
   "cell_type": "markdown",
   "metadata": {},
   "source": [
    "## *args"
   ]
  },
  {
   "cell_type": "code",
   "execution_count": 48,
   "metadata": {},
   "outputs": [],
   "source": [
    "#Eğer ki fonksiyon içine kaç parametre alacağını bilmiyorsak mesela birinin 2 adı 1 soyadı var ya da 2 adı 2 soyadı (kızlık+eş) kullanıyor ve \n",
    "#tamamını yazdırmak istiyor o zaman *args fonksiyonu ile kısıtı ortadan kaldırmış oluruz.\n",
    "\n",
    "def isim_soyisim_birlestir (*args):\n",
    "    return \" \".join(args)"
   ]
  },
  {
   "cell_type": "code",
   "execution_count": 49,
   "metadata": {},
   "outputs": [
    {
     "data": {
      "text/plain": [
       "'Hilal Nur Bozdağ Akal'"
      ]
     },
     "execution_count": 49,
     "metadata": {},
     "output_type": "execute_result"
    }
   ],
   "source": [
    "isim_soyisim_birlestir (\"Hilal\", \"Nur\", \"Bozdağ\", \"Akal\")"
   ]
  },
  {
   "cell_type": "markdown",
   "metadata": {},
   "source": [
    "## **kwargs"
   ]
  },
  {
   "cell_type": "code",
   "execution_count": 60,
   "metadata": {},
   "outputs": [],
   "source": [
    "#bir dictionary içerisinde belli bir keye karşılık gelen değerin ne olduğunu bulup bunu fonksiyonda kullanmamıza yardımcı olur.\n",
    "\n",
    "def dogum_yilini_bul(**kwargs):\n",
    "    if \"dogum_yili\" in kwargs:\n",
    "        print(kwargs[\"dogum_yili\"])\n",
    "    else:\n",
    "        print(\"Kişinin doğum yılı bilgisi mevcut değil.\")"
   ]
  },
  {
   "cell_type": "code",
   "execution_count": 57,
   "metadata": {},
   "outputs": [
    {
     "name": "stdout",
     "output_type": "stream",
     "text": [
      "2004\n"
     ]
    }
   ],
   "source": [
    "dogum_yilini_bul (ad=\"nur\", dogum_yeri=\"istanbul\", dogum_yili=2004, egitim=\"lisans\")"
   ]
  },
  {
   "cell_type": "code",
   "execution_count": 58,
   "metadata": {},
   "outputs": [
    {
     "name": "stdout",
     "output_type": "stream",
     "text": [
      "Kişinin doğum yılı bilgisi mevcut değil.\n"
     ]
    }
   ],
   "source": [
    "dogum_yilini_bul (ad=\"serdar\", dogum_yeri=\"kars\", egitim =\"yüksek lisans\" )"
   ]
  },
  {
   "cell_type": "markdown",
   "metadata": {},
   "source": [
    "*Parametreye verilen değer(ler) dictionary ise kwargs üzerinden ama verilen değer(ler) string ise (ve her koşulda miktarlar bilinmiyorsa) args üzerinden fonksiyon içinde bilgi kullanımı sağlayabiliriz.*"
   ]
  },
  {
   "cell_type": "code",
   "execution_count": 62,
   "metadata": {},
   "outputs": [
    {
     "name": "stdout",
     "output_type": "stream",
     "text": [
      "{'sayi1': 5, 'sayi2': 6, 'sayi3': 7}\n",
      "(5, 6, 8)\n"
     ]
    }
   ],
   "source": [
    "#Beraber kullanıma örnek (Alıntı)\n",
    "\n",
    "def yazdir(*args,**kwargs):\n",
    "    print(kwargs)\n",
    "    print(args)\n",
    " \n",
    "yazdir(5,6,8,sayi1=5,sayi2=6,sayi3=7) \n"
   ]
  },
  {
   "cell_type": "markdown",
   "metadata": {},
   "source": [
    "!!! Syntax !!! args, kwarkstan önce kullanılmalı."
   ]
  },
  {
   "cell_type": "code",
   "execution_count": 63,
   "metadata": {},
   "outputs": [
    {
     "ename": "SyntaxError",
     "evalue": "invalid syntax (<ipython-input-63-d95f5bc4f62e>, line 1)",
     "output_type": "error",
     "traceback": [
      "\u001b[1;36m  File \u001b[1;32m\"<ipython-input-63-d95f5bc4f62e>\"\u001b[1;36m, line \u001b[1;32m1\u001b[0m\n\u001b[1;33m    def yazdir(**kwargs,*args):\u001b[0m\n\u001b[1;37m                        ^\u001b[0m\n\u001b[1;31mSyntaxError\u001b[0m\u001b[1;31m:\u001b[0m invalid syntax\n"
     ]
    }
   ],
   "source": [
    "#Beraber kullanıma örnek (Alıntı)\n",
    "\n",
    "def yazdir(**kwargs,*args):\n",
    "    print(kwargs)\n",
    "    print(args)\n",
    " \n",
    "yazdir(5,6,8,sayi1=5,sayi2=6,sayi3=7)"
   ]
  },
  {
   "cell_type": "code",
   "execution_count": null,
   "metadata": {},
   "outputs": [],
   "source": []
  }
 ],
 "metadata": {
  "kernelspec": {
   "display_name": "Python 3",
   "language": "python",
   "name": "python3"
  },
  "language_info": {
   "codemirror_mode": {
    "name": "ipython",
    "version": 3
   },
   "file_extension": ".py",
   "mimetype": "text/x-python",
   "name": "python",
   "nbconvert_exporter": "python",
   "pygments_lexer": "ipython3",
   "version": "3.7.3"
  }
 },
 "nbformat": 4,
 "nbformat_minor": 4
}
